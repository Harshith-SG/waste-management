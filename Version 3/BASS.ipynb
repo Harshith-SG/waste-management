{
 "cells": [
  {
   "cell_type": "code",
   "execution_count": null,
   "metadata": {},
   "outputs": [],
   "source": [
    "import numpy as np\n",
    "import cv2\n",
    "from skimage.segmentation import slic, mark_boundaries\n",
    "from skimage.future import graph\n",
    "from scipy.ndimage import gaussian_filter\n",
    "from sklearn.cluster import KMeans\n",
    "import matplotlib.pyplot as plt\n"
   ]
  },
  {
   "cell_type": "code",
   "execution_count": null,
   "metadata": {},
   "outputs": [],
   "source": [
    "def create_superpixels(image, num_segments=100):\n",
    "    # Apply SLIC algorithm\n",
    "    segments = slic(image, n_segments=num_segments, compactness=10, start_label=1)\n",
    "    return segments\n"
   ]
  },
  {
   "cell_type": "code",
   "execution_count": null,
   "metadata": {},
   "outputs": [],
   "source": [
    "def calculate_similarity(superpixel1, superpixel2):\n",
    "    # Calculate the mean color of each superpixel\n",
    "    mean1 = np.mean(superpixel1, axis=(0, 1))\n",
    "    mean2 = np.mean(superpixel2, axis=(0, 1))\n",
    "    # Calculate the Euclidean distance between the mean colors\n",
    "    similarity = np.linalg.norm(mean1 - mean2)\n",
    "    return similarity\n",
    "\n",
    "def merge_superpixels(image, segments, similarity_threshold=20):\n",
    "    # Create a region adjacency graph (RAG)\n",
    "    rag = graph.rag_mean_color(image, segments, mode='similarity')\n",
    "    \n",
    "    def merge_func(graph, src, dst):\n",
    "        graph.nodes[dst]['total color'] += graph.nodes[src]['total color']\n",
    "        graph.nodes[dst]['pixel count'] += graph.nodes[src]['pixel count']\n",
    "        graph.nodes[dst]['labels'].update(graph.nodes[src]['labels'])\n",
    "    \n",
    "    def weight_func(graph, src, dst, n):\n",
    "        diff = graph.nodes[dst]['total color'] / graph.nodes[dst]['pixel count'] - graph.nodes[src]['total color'] / graph.nodes[src]['pixel count']\n",
    "        return {'weight': np.linalg.norm(diff)}\n",
    "    \n",
    "    labels = graph.merge_hierarchical(segments, rag, thresh=similarity_threshold, rag_copy=False,\n",
    "                                      in_place_merge=True, merge_func=merge_func, weight_func=weight_func)\n",
    "    return labels\n"
   ]
  },
  {
   "cell_type": "code",
   "execution_count": null,
   "metadata": {},
   "outputs": [],
   "source": [
    "def assess_noise_level(superpixel):\n",
    "    # Calculate the variance in color within the superpixel\n",
    "    noise_level = np.var(superpixel)\n",
    "    return noise_level\n",
    "\n",
    "def split_noisy_superpixels(image, segments, noise_threshold=100):\n",
    "    new_segments = np.copy(segments)\n",
    "    for segment_label in np.unique(segments):\n",
    "        superpixel = image[segments == segment_label]\n",
    "        noise_level = assess_noise_level(superpixel)\n",
    "        if noise_level > noise_threshold:\n",
    "            mask = (segments == segment_label)\n",
    "            blurred = gaussian_filter(image, sigma=2)\n",
    "            edges = cv2.Canny((blurred * 255).astype(np.uint8), 100, 200)\n",
    "            new_segments[mask] = segment_label + 1  # Increment segment label to split\n",
    "    return new_segments\n"
   ]
  },
  {
   "cell_type": "code",
   "execution_count": null,
   "metadata": {},
   "outputs": [],
   "source": [
    "def extract_features(superpixel):\n",
    "    # Calculate the mean color of the superpixel\n",
    "    mean_color = np.mean(superpixel, axis=(0, 1))\n",
    "    return mean_color\n",
    "\n",
    "def cluster_small_superpixels(image, segments, small_size_threshold=50):\n",
    "    def extract_features(superpixel):\n",
    "        return np.mean(superpixel, axis=(0, 1))\n",
    "    \n",
    "    new_segments = np.copy(segments)\n",
    "    small_superpixels = [s for s in np.unique(segments) if np.sum(segments == s) < small_size_threshold]\n",
    "    \n",
    "    features = [extract_features(image[segments == s]) for s in small_superpixels]\n",
    "    features = np.array(features)\n",
    "    \n",
    "    if len(features) > 1:\n",
    "        kmeans = KMeans(n_clusters=min(2, len(features)), random_state=0).fit(features)\n",
    "        for i, superpixel_label in enumerate(small_superpixels):\n",
    "            new_segments[segments == superpixel_label] = kmeans.labels_[i] + 1\n",
    "    return new_segments\n"
   ]
  },
  {
   "cell_type": "markdown",
   "metadata": {},
   "source": [
    "v2\n"
   ]
  },
  {
   "cell_type": "code",
   "execution_count": 2,
   "metadata": {},
   "outputs": [],
   "source": [
    "import numpy as np\n",
    "import cv2\n",
    "from skimage.segmentation import slic\n",
    "from skimage.color import rgb2lab\n",
    "from scipy.stats import multivariate_normal\n",
    "\n",
    "def compute_superpixels(image, n_segments=100, compactness=10):\n",
    "    lab_image = rgb2lab(image)\n",
    "    segments = slic(lab_image, n_segments=n_segments, compactness=compactness, start_label=1)\n",
    "    return segments\n",
    "\n",
    "def compute_color_model(image, segments, n_segments):\n",
    "    height, width, _ = image.shape\n",
    "    lab_image = rgb2lab(image)\n",
    "\n",
    "    superpixel_colors = []\n",
    "    for segment_id in range(1, n_segments + 1):\n",
    "        mask = (segments == segment_id)\n",
    "        color_values = lab_image[mask]\n",
    "        superpixel_colors.append(color_values)\n",
    "\n",
    "    means = [np.mean(colors, axis=0) for colors in superpixel_colors]\n",
    "    covariances = [np.cov(colors, rowvar=False) for colors in superpixel_colors]\n",
    "\n",
    "    return means, covariances\n",
    "\n",
    "def bayesian_segmentation(image, segments, means, covariances, n_segments):\n",
    "    height, width, _ = image.shape\n",
    "    lab_image = rgb2lab(image)\n",
    "    bayesian_segments = np.zeros((height, width), dtype=np.int32)\n",
    "\n",
    "    for y in range(height):\n",
    "        for x in range(width):\n",
    "            pixel = lab_image[y, x]\n",
    "            max_prob = -np.inf\n",
    "            best_segment = -1\n",
    "\n",
    "            for segment_id in range(n_segments):\n",
    "                mean = means[segment_id]\n",
    "                cov = covariances[segment_id]\n",
    "                prob = multivariate_normal.pdf(pixel, mean=mean, cov=cov)\n",
    "\n",
    "                if prob > max_prob:\n",
    "                    max_prob = prob\n",
    "                    best_segment = segment_id + 1\n",
    "\n",
    "            bayesian_segments[y, x] = best_segment\n",
    "\n",
    "    return bayesian_segments\n",
    "\n",
    "def main(image_path, n_segments=100, compactness=10):\n",
    "    image = cv2.imread(image_path)\n",
    "    image = cv2.cvtColor(image, cv2.COLOR_BGR2RGB)\n",
    "\n",
    "    segments = compute_superpixels(image, n_segments, compactness)\n",
    "    means, covariances = compute_color_model(image, segments, n_segments)\n",
    "    bayesian_segments = bayesian_segmentation(image, segments, means, covariances, n_segments)\n",
    "\n",
    "    return bayesian_segments"
   ]
  },
  {
   "cell_type": "code",
   "execution_count": 4,
   "metadata": {},
   "outputs": [
    {
     "name": "stdout",
     "output_type": "stream",
     "text": [
      "['train_images\\\\IMG-20240618-WA0003.jpg', 'train_images\\\\IMG-20240618-WA0004.jpg', 'train_images\\\\IMG-20240618-WA0005.jpg', 'train_images\\\\IMG-20240618-WA0006.jpg', 'train_images\\\\IMG-20240618-WA0007.jpg', 'train_images\\\\IMG-20240618-WA0008.jpg', 'train_images\\\\IMG-20240618-WA0009.jpg', 'train_images\\\\IMG-20240618-WA0010.jpg', 'train_images\\\\IMG-20240618-WA0013.jpg', 'train_images\\\\IMG-20240618-WA0014.jpg', 'train_images\\\\IMG-20240618-WA0015.jpg', 'train_images\\\\IMG-20240618-WA0016.jpg', 'train_images\\\\IMG-20240618-WA0017.jpg', 'train_images\\\\IMG-20240618-WA0018.jpg', 'train_images\\\\IMG-20240618-WA0019.jpg', 'train_images\\\\IMG-20240618-WA0020.jpg', 'train_images\\\\IMG-20240618-WA0021.jpg', 'train_images\\\\IMG-20240618-WA0022.jpg', 'train_images\\\\IMG-20240618-WA0023.jpg', 'train_images\\\\IMG-20240618-WA0024.jpg', 'train_images\\\\IMG-20240618-WA0025.jpg', 'train_images\\\\IMG-20240618-WA0026.jpg', 'train_images\\\\IMG-20240618-WA0027.jpg', 'train_images\\\\IMG-20240618-WA0028.jpg']\n"
     ]
    },
    {
     "name": "stderr",
     "output_type": "stream",
     "text": [
      "c:\\waste-management\\Version 3\\environ\\lib\\site-packages\\numpy\\core\\fromnumeric.py:3504: RuntimeWarning: Mean of empty slice.\n",
      "  return _methods._mean(a, axis=axis, dtype=dtype,\n",
      "c:\\waste-management\\Version 3\\environ\\lib\\site-packages\\numpy\\core\\_methods.py:121: RuntimeWarning: invalid value encountered in divide\n",
      "  ret = um.true_divide(\n",
      "c:\\waste-management\\Version 3\\environ\\lib\\site-packages\\numpy\\lib\\function_base.py:520: RuntimeWarning: Mean of empty slice.\n",
      "  avg = a.mean(axis, **keepdims_kw)\n",
      "C:\\Users\\harsh\\AppData\\Local\\Temp\\ipykernel_18748\\2673622138.py:23: RuntimeWarning: Degrees of freedom <= 0 for slice\n",
      "  covariances = [np.cov(colors, rowvar=False) for colors in superpixel_colors]\n",
      "c:\\waste-management\\Version 3\\environ\\lib\\site-packages\\numpy\\lib\\function_base.py:2748: RuntimeWarning: divide by zero encountered in divide\n",
      "  c *= np.true_divide(1, fact)\n",
      "c:\\waste-management\\Version 3\\environ\\lib\\site-packages\\numpy\\lib\\function_base.py:2748: RuntimeWarning: invalid value encountered in multiply\n",
      "  c *= np.true_divide(1, fact)\n"
     ]
    },
    {
     "ename": "ValueError",
     "evalue": "array must not contain infs or NaNs",
     "output_type": "error",
     "traceback": [
      "\u001b[1;31m---------------------------------------------------------------------------\u001b[0m",
      "\u001b[1;31mValueError\u001b[0m                                Traceback (most recent call last)",
      "Cell \u001b[1;32mIn[4], line 11\u001b[0m\n\u001b[0;32m      8\u001b[0m \u001b[38;5;28mprint\u001b[39m(image_paths)\n\u001b[0;32m     10\u001b[0m \u001b[38;5;28;01mfor\u001b[39;00m image_path \u001b[38;5;129;01min\u001b[39;00m image_paths:\n\u001b[1;32m---> 11\u001b[0m     segmented_image \u001b[38;5;241m=\u001b[39m \u001b[43mmain\u001b[49m\u001b[43m(\u001b[49m\u001b[43mimage_path\u001b[49m\u001b[43m)\u001b[49m\n\u001b[0;32m     13\u001b[0m     plt\u001b[38;5;241m.\u001b[39mfigure(\u001b[38;5;241m10\u001b[39m,\u001b[38;5;241m10\u001b[39m)\n\u001b[0;32m     14\u001b[0m     plt\u001b[38;5;241m.\u001b[39mimshow(segmented_image)\n",
      "Cell \u001b[1;32mIn[2], line 57\u001b[0m, in \u001b[0;36mmain\u001b[1;34m(image_path, n_segments, compactness)\u001b[0m\n\u001b[0;32m     55\u001b[0m segments \u001b[38;5;241m=\u001b[39m compute_superpixels(image, n_segments, compactness)\n\u001b[0;32m     56\u001b[0m means, covariances \u001b[38;5;241m=\u001b[39m compute_color_model(image, segments, n_segments)\n\u001b[1;32m---> 57\u001b[0m bayesian_segments \u001b[38;5;241m=\u001b[39m \u001b[43mbayesian_segmentation\u001b[49m\u001b[43m(\u001b[49m\u001b[43mimage\u001b[49m\u001b[43m,\u001b[49m\u001b[43m \u001b[49m\u001b[43msegments\u001b[49m\u001b[43m,\u001b[49m\u001b[43m \u001b[49m\u001b[43mmeans\u001b[49m\u001b[43m,\u001b[49m\u001b[43m \u001b[49m\u001b[43mcovariances\u001b[49m\u001b[43m,\u001b[49m\u001b[43m \u001b[49m\u001b[43mn_segments\u001b[49m\u001b[43m)\u001b[49m\n\u001b[0;32m     59\u001b[0m \u001b[38;5;28;01mreturn\u001b[39;00m bayesian_segments\n",
      "Cell \u001b[1;32mIn[2], line 41\u001b[0m, in \u001b[0;36mbayesian_segmentation\u001b[1;34m(image, segments, means, covariances, n_segments)\u001b[0m\n\u001b[0;32m     39\u001b[0m mean \u001b[38;5;241m=\u001b[39m means[segment_id]\n\u001b[0;32m     40\u001b[0m cov \u001b[38;5;241m=\u001b[39m covariances[segment_id]\n\u001b[1;32m---> 41\u001b[0m prob \u001b[38;5;241m=\u001b[39m \u001b[43mmultivariate_normal\u001b[49m\u001b[38;5;241;43m.\u001b[39;49m\u001b[43mpdf\u001b[49m\u001b[43m(\u001b[49m\u001b[43mpixel\u001b[49m\u001b[43m,\u001b[49m\u001b[43m \u001b[49m\u001b[43mmean\u001b[49m\u001b[38;5;241;43m=\u001b[39;49m\u001b[43mmean\u001b[49m\u001b[43m,\u001b[49m\u001b[43m \u001b[49m\u001b[43mcov\u001b[49m\u001b[38;5;241;43m=\u001b[39;49m\u001b[43mcov\u001b[49m\u001b[43m)\u001b[49m\n\u001b[0;32m     43\u001b[0m \u001b[38;5;28;01mif\u001b[39;00m prob \u001b[38;5;241m>\u001b[39m max_prob:\n\u001b[0;32m     44\u001b[0m     max_prob \u001b[38;5;241m=\u001b[39m prob\n",
      "File \u001b[1;32mc:\\waste-management\\Version 3\\environ\\lib\\site-packages\\scipy\\stats\\_multivariate.py:584\u001b[0m, in \u001b[0;36mmultivariate_normal_gen.pdf\u001b[1;34m(self, x, mean, cov, allow_singular)\u001b[0m\n\u001b[0;32m    565\u001b[0m \u001b[38;5;28;01mdef\u001b[39;00m \u001b[38;5;21mpdf\u001b[39m(\u001b[38;5;28mself\u001b[39m, x, mean\u001b[38;5;241m=\u001b[39m\u001b[38;5;28;01mNone\u001b[39;00m, cov\u001b[38;5;241m=\u001b[39m\u001b[38;5;241m1\u001b[39m, allow_singular\u001b[38;5;241m=\u001b[39m\u001b[38;5;28;01mFalse\u001b[39;00m):\n\u001b[0;32m    566\u001b[0m \u001b[38;5;250m    \u001b[39m\u001b[38;5;124;03m\"\"\"Multivariate normal probability density function.\u001b[39;00m\n\u001b[0;32m    567\u001b[0m \n\u001b[0;32m    568\u001b[0m \u001b[38;5;124;03m    Parameters\u001b[39;00m\n\u001b[1;32m   (...)\u001b[0m\n\u001b[0;32m    582\u001b[0m \n\u001b[0;32m    583\u001b[0m \u001b[38;5;124;03m    \"\"\"\u001b[39;00m\n\u001b[1;32m--> 584\u001b[0m     params \u001b[38;5;241m=\u001b[39m \u001b[38;5;28;43mself\u001b[39;49m\u001b[38;5;241;43m.\u001b[39;49m\u001b[43m_process_parameters\u001b[49m\u001b[43m(\u001b[49m\u001b[43mmean\u001b[49m\u001b[43m,\u001b[49m\u001b[43m \u001b[49m\u001b[43mcov\u001b[49m\u001b[43m,\u001b[49m\u001b[43m \u001b[49m\u001b[43mallow_singular\u001b[49m\u001b[43m)\u001b[49m\n\u001b[0;32m    585\u001b[0m     dim, mean, cov_object \u001b[38;5;241m=\u001b[39m params\n\u001b[0;32m    586\u001b[0m     x \u001b[38;5;241m=\u001b[39m \u001b[38;5;28mself\u001b[39m\u001b[38;5;241m.\u001b[39m_process_quantiles(x, dim)\n",
      "File \u001b[1;32mc:\\waste-management\\Version 3\\environ\\lib\\site-packages\\scipy\\stats\\_multivariate.py:421\u001b[0m, in \u001b[0;36mmultivariate_normal_gen._process_parameters\u001b[1;34m(self, mean, cov, allow_singular)\u001b[0m\n\u001b[0;32m    414\u001b[0m dim, mean, cov \u001b[38;5;241m=\u001b[39m \u001b[38;5;28mself\u001b[39m\u001b[38;5;241m.\u001b[39m_process_parameters_psd(\u001b[38;5;28;01mNone\u001b[39;00m, mean, cov)\n\u001b[0;32m    415\u001b[0m \u001b[38;5;66;03m# After input validation, some methods then processed the arrays\u001b[39;00m\n\u001b[0;32m    416\u001b[0m \u001b[38;5;66;03m# with a `_PSD` object and used that to perform computation.\u001b[39;00m\n\u001b[0;32m    417\u001b[0m \u001b[38;5;66;03m# To avoid branching statements in each method depending on whether\u001b[39;00m\n\u001b[0;32m    418\u001b[0m \u001b[38;5;66;03m# `cov` is an array or `Covariance` object, we always process the\u001b[39;00m\n\u001b[0;32m    419\u001b[0m \u001b[38;5;66;03m# array with `_PSD`, and then use wrapper that satisfies the\u001b[39;00m\n\u001b[0;32m    420\u001b[0m \u001b[38;5;66;03m# `Covariance` interface, `CovViaPSD`.\u001b[39;00m\n\u001b[1;32m--> 421\u001b[0m psd \u001b[38;5;241m=\u001b[39m \u001b[43m_PSD\u001b[49m\u001b[43m(\u001b[49m\u001b[43mcov\u001b[49m\u001b[43m,\u001b[49m\u001b[43m \u001b[49m\u001b[43mallow_singular\u001b[49m\u001b[38;5;241;43m=\u001b[39;49m\u001b[43mallow_singular\u001b[49m\u001b[43m)\u001b[49m\n\u001b[0;32m    422\u001b[0m cov_object \u001b[38;5;241m=\u001b[39m _covariance\u001b[38;5;241m.\u001b[39mCovViaPSD(psd)\n\u001b[0;32m    423\u001b[0m \u001b[38;5;28;01mreturn\u001b[39;00m dim, mean, cov_object\n",
      "File \u001b[1;32mc:\\waste-management\\Version 3\\environ\\lib\\site-packages\\scipy\\stats\\_multivariate.py:164\u001b[0m, in \u001b[0;36m_PSD.__init__\u001b[1;34m(self, M, cond, rcond, lower, check_finite, allow_singular)\u001b[0m\n\u001b[0;32m    159\u001b[0m \u001b[38;5;28mself\u001b[39m\u001b[38;5;241m.\u001b[39m_M \u001b[38;5;241m=\u001b[39m np\u001b[38;5;241m.\u001b[39masarray(M)\n\u001b[0;32m    161\u001b[0m \u001b[38;5;66;03m# Compute the symmetric eigendecomposition.\u001b[39;00m\n\u001b[0;32m    162\u001b[0m \u001b[38;5;66;03m# Note that eigh takes care of array conversion, chkfinite,\u001b[39;00m\n\u001b[0;32m    163\u001b[0m \u001b[38;5;66;03m# and assertion that the matrix is square.\u001b[39;00m\n\u001b[1;32m--> 164\u001b[0m s, u \u001b[38;5;241m=\u001b[39m \u001b[43mscipy\u001b[49m\u001b[38;5;241;43m.\u001b[39;49m\u001b[43mlinalg\u001b[49m\u001b[38;5;241;43m.\u001b[39;49m\u001b[43meigh\u001b[49m\u001b[43m(\u001b[49m\u001b[43mM\u001b[49m\u001b[43m,\u001b[49m\u001b[43m \u001b[49m\u001b[43mlower\u001b[49m\u001b[38;5;241;43m=\u001b[39;49m\u001b[43mlower\u001b[49m\u001b[43m,\u001b[49m\u001b[43m \u001b[49m\u001b[43mcheck_finite\u001b[49m\u001b[38;5;241;43m=\u001b[39;49m\u001b[43mcheck_finite\u001b[49m\u001b[43m)\u001b[49m\n\u001b[0;32m    166\u001b[0m eps \u001b[38;5;241m=\u001b[39m _eigvalsh_to_eps(s, cond, rcond)\n\u001b[0;32m    167\u001b[0m \u001b[38;5;28;01mif\u001b[39;00m np\u001b[38;5;241m.\u001b[39mmin(s) \u001b[38;5;241m<\u001b[39m \u001b[38;5;241m-\u001b[39meps:\n",
      "File \u001b[1;32mc:\\waste-management\\Version 3\\environ\\lib\\site-packages\\scipy\\_lib\\deprecation.py:213\u001b[0m, in \u001b[0;36m_deprecate_positional_args.<locals>._inner_deprecate_positional_args.<locals>.inner_f\u001b[1;34m(*args, **kwargs)\u001b[0m\n\u001b[0;32m    211\u001b[0m extra_args \u001b[38;5;241m=\u001b[39m \u001b[38;5;28mlen\u001b[39m(args) \u001b[38;5;241m-\u001b[39m \u001b[38;5;28mlen\u001b[39m(all_args)\n\u001b[0;32m    212\u001b[0m \u001b[38;5;28;01mif\u001b[39;00m extra_args \u001b[38;5;241m<\u001b[39m\u001b[38;5;241m=\u001b[39m \u001b[38;5;241m0\u001b[39m:\n\u001b[1;32m--> 213\u001b[0m     \u001b[38;5;28;01mreturn\u001b[39;00m f(\u001b[38;5;241m*\u001b[39margs, \u001b[38;5;241m*\u001b[39m\u001b[38;5;241m*\u001b[39mkwargs)\n\u001b[0;32m    215\u001b[0m \u001b[38;5;66;03m# extra_args > 0\u001b[39;00m\n\u001b[0;32m    216\u001b[0m args_msg \u001b[38;5;241m=\u001b[39m [\n\u001b[0;32m    217\u001b[0m     \u001b[38;5;124mf\u001b[39m\u001b[38;5;124m\"\u001b[39m\u001b[38;5;132;01m{\u001b[39;00mname\u001b[38;5;132;01m}\u001b[39;00m\u001b[38;5;124m=\u001b[39m\u001b[38;5;132;01m{\u001b[39;00marg\u001b[38;5;132;01m}\u001b[39;00m\u001b[38;5;124m\"\u001b[39m\n\u001b[0;32m    218\u001b[0m     \u001b[38;5;28;01mfor\u001b[39;00m name, arg \u001b[38;5;129;01min\u001b[39;00m \u001b[38;5;28mzip\u001b[39m(kwonly_args[:extra_args], args[\u001b[38;5;241m-\u001b[39mextra_args:])\n\u001b[0;32m    219\u001b[0m ]\n",
      "File \u001b[1;32mc:\\waste-management\\Version 3\\environ\\lib\\site-packages\\scipy\\linalg\\_decomp.py:464\u001b[0m, in \u001b[0;36meigh\u001b[1;34m(a, b, lower, eigvals_only, overwrite_a, overwrite_b, turbo, eigvals, type, check_finite, subset_by_index, subset_by_value, driver)\u001b[0m\n\u001b[0;32m    460\u001b[0m \u001b[38;5;28;01mif\u001b[39;00m driver \u001b[38;5;129;01mnot\u001b[39;00m \u001b[38;5;129;01min\u001b[39;00m drv_str:\n\u001b[0;32m    461\u001b[0m     \u001b[38;5;28;01mraise\u001b[39;00m \u001b[38;5;167;01mValueError\u001b[39;00m(\u001b[38;5;124m'\u001b[39m\u001b[38;5;124m\"\u001b[39m\u001b[38;5;132;01m{}\u001b[39;00m\u001b[38;5;124m\"\u001b[39m\u001b[38;5;124m is unknown. Possible values are \u001b[39m\u001b[38;5;124m\"\u001b[39m\u001b[38;5;124mNone\u001b[39m\u001b[38;5;124m\"\u001b[39m\u001b[38;5;124m, \u001b[39m\u001b[38;5;124m\"\u001b[39m\u001b[38;5;132;01m{}\u001b[39;00m\u001b[38;5;124m\"\u001b[39m\u001b[38;5;124m.\u001b[39m\u001b[38;5;124m'\u001b[39m\n\u001b[0;32m    462\u001b[0m                      \u001b[38;5;124m'\u001b[39m\u001b[38;5;124m'\u001b[39m\u001b[38;5;241m.\u001b[39mformat(driver, \u001b[38;5;124m'\u001b[39m\u001b[38;5;124m\"\u001b[39m\u001b[38;5;124m, \u001b[39m\u001b[38;5;124m\"\u001b[39m\u001b[38;5;124m'\u001b[39m\u001b[38;5;241m.\u001b[39mjoin(drv_str[\u001b[38;5;241m1\u001b[39m:])))\n\u001b[1;32m--> 464\u001b[0m a1 \u001b[38;5;241m=\u001b[39m \u001b[43m_asarray_validated\u001b[49m\u001b[43m(\u001b[49m\u001b[43ma\u001b[49m\u001b[43m,\u001b[49m\u001b[43m \u001b[49m\u001b[43mcheck_finite\u001b[49m\u001b[38;5;241;43m=\u001b[39;49m\u001b[43mcheck_finite\u001b[49m\u001b[43m)\u001b[49m\n\u001b[0;32m    465\u001b[0m \u001b[38;5;28;01mif\u001b[39;00m \u001b[38;5;28mlen\u001b[39m(a1\u001b[38;5;241m.\u001b[39mshape) \u001b[38;5;241m!=\u001b[39m \u001b[38;5;241m2\u001b[39m \u001b[38;5;129;01mor\u001b[39;00m a1\u001b[38;5;241m.\u001b[39mshape[\u001b[38;5;241m0\u001b[39m] \u001b[38;5;241m!=\u001b[39m a1\u001b[38;5;241m.\u001b[39mshape[\u001b[38;5;241m1\u001b[39m]:\n\u001b[0;32m    466\u001b[0m     \u001b[38;5;28;01mraise\u001b[39;00m \u001b[38;5;167;01mValueError\u001b[39;00m(\u001b[38;5;124m'\u001b[39m\u001b[38;5;124mexpected square \u001b[39m\u001b[38;5;124m\"\u001b[39m\u001b[38;5;124ma\u001b[39m\u001b[38;5;124m\"\u001b[39m\u001b[38;5;124m matrix\u001b[39m\u001b[38;5;124m'\u001b[39m)\n",
      "File \u001b[1;32mc:\\waste-management\\Version 3\\environ\\lib\\site-packages\\scipy\\_lib\\_util.py:321\u001b[0m, in \u001b[0;36m_asarray_validated\u001b[1;34m(a, check_finite, sparse_ok, objects_ok, mask_ok, as_inexact)\u001b[0m\n\u001b[0;32m    319\u001b[0m         \u001b[38;5;28;01mraise\u001b[39;00m \u001b[38;5;167;01mValueError\u001b[39;00m(\u001b[38;5;124m'\u001b[39m\u001b[38;5;124mmasked arrays are not supported\u001b[39m\u001b[38;5;124m'\u001b[39m)\n\u001b[0;32m    320\u001b[0m toarray \u001b[38;5;241m=\u001b[39m np\u001b[38;5;241m.\u001b[39masarray_chkfinite \u001b[38;5;28;01mif\u001b[39;00m check_finite \u001b[38;5;28;01melse\u001b[39;00m np\u001b[38;5;241m.\u001b[39masarray\n\u001b[1;32m--> 321\u001b[0m a \u001b[38;5;241m=\u001b[39m \u001b[43mtoarray\u001b[49m\u001b[43m(\u001b[49m\u001b[43ma\u001b[49m\u001b[43m)\u001b[49m\n\u001b[0;32m    322\u001b[0m \u001b[38;5;28;01mif\u001b[39;00m \u001b[38;5;129;01mnot\u001b[39;00m objects_ok:\n\u001b[0;32m    323\u001b[0m     \u001b[38;5;28;01mif\u001b[39;00m a\u001b[38;5;241m.\u001b[39mdtype \u001b[38;5;129;01mis\u001b[39;00m np\u001b[38;5;241m.\u001b[39mdtype(\u001b[38;5;124m'\u001b[39m\u001b[38;5;124mO\u001b[39m\u001b[38;5;124m'\u001b[39m):\n",
      "File \u001b[1;32mc:\\waste-management\\Version 3\\environ\\lib\\site-packages\\numpy\\lib\\function_base.py:630\u001b[0m, in \u001b[0;36masarray_chkfinite\u001b[1;34m(a, dtype, order)\u001b[0m\n\u001b[0;32m    628\u001b[0m a \u001b[38;5;241m=\u001b[39m asarray(a, dtype\u001b[38;5;241m=\u001b[39mdtype, order\u001b[38;5;241m=\u001b[39morder)\n\u001b[0;32m    629\u001b[0m \u001b[38;5;28;01mif\u001b[39;00m a\u001b[38;5;241m.\u001b[39mdtype\u001b[38;5;241m.\u001b[39mchar \u001b[38;5;129;01min\u001b[39;00m typecodes[\u001b[38;5;124m'\u001b[39m\u001b[38;5;124mAllFloat\u001b[39m\u001b[38;5;124m'\u001b[39m] \u001b[38;5;129;01mand\u001b[39;00m \u001b[38;5;129;01mnot\u001b[39;00m np\u001b[38;5;241m.\u001b[39misfinite(a)\u001b[38;5;241m.\u001b[39mall():\n\u001b[1;32m--> 630\u001b[0m     \u001b[38;5;28;01mraise\u001b[39;00m \u001b[38;5;167;01mValueError\u001b[39;00m(\n\u001b[0;32m    631\u001b[0m         \u001b[38;5;124m\"\u001b[39m\u001b[38;5;124marray must not contain infs or NaNs\u001b[39m\u001b[38;5;124m\"\u001b[39m)\n\u001b[0;32m    632\u001b[0m \u001b[38;5;28;01mreturn\u001b[39;00m a\n",
      "\u001b[1;31mValueError\u001b[0m: array must not contain infs or NaNs"
     ]
    }
   ],
   "source": [
    "import os\n",
    "import matplotlib.pyplot as plt\n",
    "directory='train_images'\n",
    "image_paths=[]\n",
    "for img_dir in os.listdir(directory):\n",
    "    image_paths.append( os.path.join(directory, img_dir))\n",
    "\n",
    "print(image_paths)\n",
    "\n",
    "for image_path in image_paths:\n",
    "    segmented_image = main(image_path)\n",
    "\n",
    "    plt.figure(10,10)\n",
    "    plt.imshow(segmented_image)\n",
    "    plt.axis(False)\n",
    "    plt.title('Segmented Image')\n",
    "    plt.show()"
   ]
  }
 ],
 "metadata": {
  "kernelspec": {
   "display_name": "environ",
   "language": "python",
   "name": "python3"
  },
  "language_info": {
   "codemirror_mode": {
    "name": "ipython",
    "version": 3
   },
   "file_extension": ".py",
   "mimetype": "text/x-python",
   "name": "python",
   "nbconvert_exporter": "python",
   "pygments_lexer": "ipython3",
   "version": "3.10.4"
  }
 },
 "nbformat": 4,
 "nbformat_minor": 2
}
